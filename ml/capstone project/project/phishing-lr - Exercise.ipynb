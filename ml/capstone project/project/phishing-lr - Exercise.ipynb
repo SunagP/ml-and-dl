{
 "cells": [
  {
   "cell_type": "markdown",
   "metadata": {},
   "source": [
    "## Logistic Regression (Phishing Dataset)"
   ]
  },
  {
   "cell_type": "code",
   "execution_count": 1,
   "metadata": {},
   "outputs": [],
   "source": [
    "#CellStrat - Load the phishing website dataset (this dataset has 11000+ data samples). Each sample has 30 website\n",
    "#parameters and then a class label identifying it as a phishing website or not (1 or -1).\n",
    "\n",
    "#The task is to train a Logistic Regression classifier which can detect phishing websites.\n",
    "\n",
    "#Use 70% data for training and 30% for testing.\n",
    "\n",
    "#Train the model using training data and then use it to predict the test data.\n",
    "\n",
    "#Then print the count of misclassified samples in the test data prediction as well as the accuracy score of this prediction.\n",
    "\n",
    "#Then train with only two input parameters. e.g. parameter index 5 (parameter Prefix_Suffix) and 13 (URL_of_Anchor) only out of\n",
    "#30 parameters. Check accuracy on the test data again and compare the accuracy with the previous value, where it was\n",
    "#trained on all the parameters.\n",
    "\n",
    "#Plot the test samples along with the decision boundary when trained with index 5 and index 13 parameters."
   ]
  },
  {
   "cell_type": "markdown",
   "metadata": {},
   "source": [
    "### Import modules"
   ]
  },
  {
   "cell_type": "code",
   "execution_count": 2,
   "metadata": {},
   "outputs": [],
   "source": [
    "from sklearn import datasets\n",
    "import numpy as np\n",
    "from sklearn.model_selection import train_test_split\n",
    "from sklearn.preprocessing import StandardScaler\n",
    "from sklearn.linear_model import LogisticRegression\n",
    "from sklearn.metrics import accuracy_score\n",
    "from matplotlib.colors import ListedColormap\n",
    "import matplotlib.pyplot as plt"
   ]
  },
  {
   "cell_type": "markdown",
   "metadata": {},
   "source": [
    "### Define Input and Output"
   ]
  },
  {
   "cell_type": "code",
   "execution_count": 3,
   "metadata": {},
   "outputs": [],
   "source": [
    "phishing = np.loadtxt('phishing.txt', delimiter=',')\n",
    "\n",
    "#attribute having_IP_Address  { -1,1 }\n",
    "#attribute URL_Length   { 1,0,-1 }\n",
    "#attribute Shortining_Service { 1,-1 }\n",
    "#attribute having_At_Symbol   { 1,-1 }\n",
    "#attribute double_slash_redirecting { -1,1 }\n",
    "#attribute Prefix_Suffix  { -1,1 }\n",
    "#attribute having_Sub_Domain  { -1,0,1 }\n",
    "#attribute SSLfinal_State  { -1,1,0 }\n",
    "#attribute Domain_registeration_length { -1,1 }\n",
    "#attribute Favicon { 1,-1 }\n",
    "#attribute port { 1,-1 }\n",
    "#attribute HTTPS_token { -1,1 }\n",
    "#attribute Request_URL  { 1,-1 }\n",
    "#attribute URL_of_Anchor { -1,0,1 }\n",
    "#attribute Links_in_tags { 1,-1,0 }\n",
    "#attribute SFH  { -1,1,0 }\n",
    "#attribute Submitting_to_email { -1,1 }\n",
    "#attribute Abnormal_URL { -1,1 }\n",
    "#attribute Redirect  { 0,1 }\n",
    "#attribute on_mouseover  { 1,-1 }\n",
    "#attribute RightClick  { 1,-1 }\n",
    "#attribute popUpWidnow  { 1,-1 }\n",
    "#attribute Iframe { 1,-1 }\n",
    "#attribute age_of_domain  { -1,1 }\n",
    "#attribute DNSRecord   { -1,1 }\n",
    "#attribute web_traffic  { -1,0,1 }\n",
    "#attribute Page_Rank { -1,1 }\n",
    "#attribute Google_Index { 1,-1 }\n",
    "#attribute Links_pointing_to_page { 1,0,-1 }\n",
    "#attribute Statistical_report { -1,1 }\n",
    "#attribute Result  { -1,1 }"
   ]
  },
  {
   "cell_type": "code",
   "execution_count": 31,
   "metadata": {},
   "outputs": [
    {
     "name": "stdout",
     "output_type": "stream",
     "text": [
      "[[-1.  1.  1. ...  1.  1. -1.]\n",
      " [ 1.  1.  1. ...  1.  1.  1.]\n",
      " [ 1.  0.  1. ...  1.  0. -1.]\n",
      " ...\n",
      " [ 1. -1.  1. ...  1.  0.  1.]\n",
      " [-1. -1.  1. ...  1.  1.  1.]\n",
      " [-1. -1.  1. ... -1.  1. -1.]]\n",
      "[-1. -1. -1. ... -1. -1. -1.]\n"
     ]
    }
   ],
   "source": [
    "#create solution here\n",
    "X=np.array(phishing[:,:-1])\n",
    "y=np.array(phishing[:,-1])\n",
    "print(X)\n",
    "print(y)\n"
   ]
  },
  {
   "cell_type": "code",
   "execution_count": 5,
   "metadata": {},
   "outputs": [],
   "source": [
    "\n",
    "# Splitting data into 70% training and 30% test data:\n",
    "X_train, X_test, y_train, y_test = train_test_split(X,y, test_size=0.3,\n",
    "                                                    random_state=1, stratify=y)\n",
    "y_train = np.array(y_train.ravel())\n",
    "y_test = np.array(y_test.ravel())\n",
    "\n",
    "# Standardizing the features:\n",
    "sc = StandardScaler()\n",
    "sc.fit(X_train)\n",
    "X_train_std = sc.transform(X_train)\n",
    "X_test_std = sc.transform(X_test)"
   ]
  },
  {
   "cell_type": "code",
   "execution_count": 6,
   "metadata": {},
   "outputs": [
    {
     "data": {
      "text/plain": [
       "LogisticRegression(random_state=0)"
      ]
     },
     "execution_count": 6,
     "metadata": {},
     "output_type": "execute_result"
    }
   ],
   "source": [
    "from sklearn.linear_model import LogisticRegression\n",
    "LRClassifier = LogisticRegression (random_state = 0)\n",
    "LRClassifier.fit (X_train, y_train)"
   ]
  },
  {
   "cell_type": "code",
   "execution_count": 7,
   "metadata": {},
   "outputs": [
    {
     "data": {
      "text/plain": [
       "array([ 1., -1., -1., ..., -1., -1.,  1.])"
      ]
     },
     "execution_count": 7,
     "metadata": {},
     "output_type": "execute_result"
    }
   ],
   "source": [
    "prediction = LRClassifier.predict (X_test)\n",
    "\n",
    "prediction"
   ]
  },
  {
   "cell_type": "code",
   "execution_count": 8,
   "metadata": {},
   "outputs": [
    {
     "name": "stdout",
     "output_type": "stream",
     "text": [
      "[[1321  149]\n",
      " [  99 1748]]\n"
     ]
    }
   ],
   "source": [
    "from sklearn.metrics import confusion_matrix\n",
    "confusionMatrix = confusion_matrix (y_test, prediction)\n",
    "\n",
    "print(confusionMatrix)"
   ]
  },
  {
   "cell_type": "code",
   "execution_count": 9,
   "metadata": {},
   "outputs": [
    {
     "name": "stdout",
     "output_type": "stream",
     "text": [
      "Misclassified samples: 248\n",
      "Accuracy: 0.93\n"
     ]
    }
   ],
   "source": [
    "print('Misclassified samples: %d' % (y_test != prediction).sum())\n",
    "print('Accuracy: %.2f' % accuracy_score(y_test, prediction))"
   ]
  },
  {
   "cell_type": "code",
   "execution_count": 10,
   "metadata": {},
   "outputs": [
    {
     "data": {
      "text/plain": [
       "array([[-1., -1.],\n",
       "       [-1.,  0.],\n",
       "       [-1.,  0.],\n",
       "       ...,\n",
       "       [-1.,  0.],\n",
       "       [-1., -1.],\n",
       "       [-1., -1.]])"
      ]
     },
     "execution_count": 10,
     "metadata": {},
     "output_type": "execute_result"
    }
   ],
   "source": [
    "#Decision boundary when trained with index 5 and index 13 \n",
    "X=np.array(phishing[:,[5,13]])\n",
    "y=np.array(phishing[:,-1])\n",
    "X"
   ]
  },
  {
   "cell_type": "code",
   "execution_count": 11,
   "metadata": {},
   "outputs": [],
   "source": [
    "# Splitting data into 70% training and 30% test data:\n",
    "X_train, X_test, y_train, y_test = train_test_split(X,y, test_size=0.3,\n",
    "                                                    random_state=1, stratify=y)\n",
    "y_train = np.array(y_train.ravel())\n",
    "y_test = np.array(y_test.ravel())\n",
    "\n",
    "# Standardizing the features:\n",
    "sc = StandardScaler()\n",
    "sc.fit(X_train)\n",
    "X_train_std = sc.transform(X_train)\n",
    "X_test_std = sc.transform(X_test)"
   ]
  },
  {
   "cell_type": "code",
   "execution_count": 12,
   "metadata": {},
   "outputs": [
    {
     "data": {
      "text/plain": [
       "LogisticRegression(random_state=0)"
      ]
     },
     "execution_count": 12,
     "metadata": {},
     "output_type": "execute_result"
    }
   ],
   "source": [
    "from sklearn.linear_model import LogisticRegression\n",
    "LRClassifier = LogisticRegression (random_state = 0)\n",
    "LRClassifier.fit (X_train, y_train)"
   ]
  },
  {
   "cell_type": "code",
   "execution_count": 13,
   "metadata": {},
   "outputs": [
    {
     "data": {
      "text/plain": [
       "array([ 1., -1.,  1., ...,  1.,  1.,  1.])"
      ]
     },
     "execution_count": 13,
     "metadata": {},
     "output_type": "execute_result"
    }
   ],
   "source": [
    "prediction = LRClassifier.predict (X_test)\n",
    "\n",
    "prediction"
   ]
  },
  {
   "cell_type": "code",
   "execution_count": 14,
   "metadata": {},
   "outputs": [
    {
     "name": "stdout",
     "output_type": "stream",
     "text": [
      "[[ 933  537]\n",
      " [   6 1841]]\n"
     ]
    }
   ],
   "source": [
    "from sklearn.metrics import confusion_matrix\n",
    "confusionMatrix = confusion_matrix (y_test, prediction)\n",
    "\n",
    "print(confusionMatrix)"
   ]
  },
  {
   "cell_type": "code",
   "execution_count": 15,
   "metadata": {},
   "outputs": [
    {
     "name": "stdout",
     "output_type": "stream",
     "text": [
      "Misclassified samples: 543\n",
      "Accuracy: 0.84\n"
     ]
    }
   ],
   "source": [
    "print('Misclassified samples: %d' % (y_test != prediction).sum())\n",
    "print('Accuracy: %.2f' % accuracy_score(y_test, prediction))"
   ]
  },
  {
   "cell_type": "code",
   "execution_count": 27,
   "metadata": {},
   "outputs": [],
   "source": [
    "def plot_decision_regions(X, y, classifier, test_idx=None, resolution=0.02):\n",
    "    # setup marker generator and color map\n",
    "    markers = ('s', 'x')\n",
    "    colors = ('green', 'red')\n",
    "    cmap = ListedColormap(colors[:len(np.unique(y))])\n",
    "\n",
    "    # plot the decision surface\n",
    "    x1_min, x1_max = X[:, 0].min() - 1, X[:, 0].max() + 1\n",
    "    x2_min, x2_max = X[:, 1].min() - 1, X[:, 1].max() + 1\n",
    "    xx1, xx2 = np.meshgrid(np.arange(x1_min, x1_max, resolution),np.arange(x2_min, x2_max, resolution))\n",
    "\n",
    "    Z = classifier.predict(np.array([xx1.ravel(), xx2.ravel()]).T)\n",
    "    Z = Z.reshape(xx1.shape)\n",
    "    plt.contourf(xx1, xx2, Z, alpha=0.3, cmap=cmap)\n",
    "    plt.xlim(xx1.min(), xx1.max())\n",
    "    plt.ylim(xx2.min(), xx2.max())\n",
    "\n",
    "    # plot all samples\n",
    "    for idx, cl in enumerate(np.unique(y)):\n",
    "        plt.scatter(x=X[y == cl, 0], y=X[y == cl, 1], alpha=0.8,\n",
    "                    c=colors[idx], marker=markers[idx], label=cl, edgecolor='black')\n",
    "\n",
    "    if test_idx:   # # highlight test samples.\n",
    "        X_test, y_test = X[test_idx, :], y[test_idx]\n",
    "        plt.scatter(X_test[:, 0], X_test[:, 1], c='', edgecolor='black', alpha=1.0,linewidth=1,\n",
    "                    marker='o', s=100, label='test set')"
   ]
  },
  {
   "cell_type": "code",
   "execution_count": 29,
   "metadata": {},
   "outputs": [
    {
     "data": {
      "image/png": "[encoded data removed]",
      "text/plain": [
       "<Figure size 432x288 with 1 Axes>"
      ]
     },
     "metadata": {
      "needs_background": "light"
     },
     "output_type": "display_data"
    }
   ],
   "source": [
    "plot_decision_regions(X_test_std, y_test, classifier=LRClassifier)\n",
    "\n",
    "plt.xlabel('Prefix_Suffix ')\n",
    "plt.ylabel('URL_of_Anchor ')\n",
    "plt.legend(loc='upper left')\n",
    "plt.title('phishing Logistic Regression')\n",
    "plt.show()"
   ]
  },
  {
   "cell_type": "code",
   "execution_count": null,
   "metadata": {},
   "outputs": [],
   "source": []
  },
  {
   "cell_type": "code",
   "execution_count": null,
   "metadata": {},
   "outputs": [],
   "source": []
  },
  {
   "cell_type": "code",
   "execution_count": null,
   "metadata": {},
   "outputs": [],
   "source": []
  }
 ],
 "metadata": {
  "kernelspec": {
   "display_name": "Python 3",
   "language": "python",
   "name": "python3"
  },
  "language_info": {
   "codemirror_mode": {
    "name": "ipython",
    "version": 3
   },
   "file_extension": ".py",
   "mimetype": "text/x-python",
   "name": "python",
   "nbconvert_exporter": "python",
   "pygments_lexer": "ipython3",
   "version": "3.7.8"
  }
 },
 "nbformat": 4,
 "nbformat_minor": 2
}
