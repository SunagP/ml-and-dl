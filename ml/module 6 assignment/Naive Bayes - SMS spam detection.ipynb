{
 "cells": [
  {
   "cell_type": "code",
   "execution_count": 1,
   "metadata": {
    "collapsed": true
   },
   "outputs": [],
   "source": [
    "# coding: utf-8\n",
    "\n",
    "# # SMS Spam detection using Naive Bayes\n",
    "# \n",
    "# Source : talk on \"Data Science with Python\" at the [University of Economics](https://www.vse.cz/english/) in Prague, December 2014. [@RadimRehurek](https://twitter.com/radimrehurek).\n",
    "# \n",
    "# The goal of this talk is to demonstrate some high level, introductory concepts behind (text) machine learning. The concepts are demonstrated by concrete code examples in this notebook, which you can run yourself (after installing IPython, see below), on your own computer.\n",
    "# \n",
    "# The talk audience is expected to have some basic programming knowledge (though not necessarily Python) and some basic introductory data mining background. This is *not* an \"advanced talk\" for machine learning experts.\n",
    "# \n",
    "# The code examples build a working, executable prototype: an app to classify phone SMS messages in English (well, the \"SMS kind\" of English...) as either \"spam\" or \"ham\" (=not spam).\n",
    "\n",
    "# [![](http://radimrehurek.com/data_science_python/python.png)](http://xkcd.com/353/)\n",
    "\n",
    "# The language used throughout will be [Python](https://www.python.org/), a general purpose language helpful in all parts of the pipeline: I/O, data wrangling and preprocessing, model training and evaluation. While Python is by no means the only choice, it offers a unique combination of flexibility, ease of development and performance, thanks to its mature scientific computing ecosystem. Its vast, open source ecosystem also avoids the lock-in (and associated bitrot) of any single specific framework or library.\n",
    "# \n",
    "# Python (and of most its libraries) is also platform independent, so you can run this notebook on Windows, Linux or OS X without a change.\n",
    "# \n",
    "# One of the Python tools, the IPython notebook = interactive Python rendered as HTML, you're watching right now. We'll go over other practical tools, widely used in the data science industry, below.\n",
    "\n",
    "# # End-to-end example: automated spam filtering"
   ]
  },
  {
   "cell_type": "code",
   "execution_count": 2,
   "metadata": {},
   "outputs": [
    {
     "name": "stderr",
     "output_type": "stream",
     "text": [
      "c:\\program files\\python35\\lib\\site-packages\\sklearn\\cross_validation.py:41: DeprecationWarning: This module was deprecated in version 0.18 in favor of the model_selection module into which all the refactored classes and functions are moved. Also note that the interface of the new CV iterators are different from that of this module. This module will be removed in 0.20.\n",
      "  \"This module will be removed in 0.20.\", DeprecationWarning)\n",
      "c:\\program files\\python35\\lib\\site-packages\\sklearn\\grid_search.py:42: DeprecationWarning: This module was deprecated in version 0.18 in favor of the model_selection module into which all the refactored classes and functions are moved. This module will be removed in 0.20.\n",
      "  DeprecationWarning)\n",
      "c:\\program files\\python35\\lib\\site-packages\\sklearn\\learning_curve.py:22: DeprecationWarning: This module was deprecated in version 0.18 in favor of the model_selection module into which all the functions are moved. This module will be removed in 0.20\n",
      "  DeprecationWarning)\n"
     ]
    }
   ],
   "source": [
    "#get_ipython().magic('matplotlib inline')\n",
    "import matplotlib.pyplot as plt\n",
    "import csv\n",
    "from textblob import TextBlob\n",
    "import pandas\n",
    "import sklearn\n",
    "#import cPickle\n",
    "import numpy as np\n",
    "from sklearn.feature_extraction.text import CountVectorizer, TfidfTransformer\n",
    "from sklearn.naive_bayes import MultinomialNB\n",
    "from sklearn.svm import SVC, LinearSVC\n",
    "from sklearn.metrics import classification_report, f1_score, accuracy_score, confusion_matrix\n",
    "from sklearn.pipeline import Pipeline\n",
    "from sklearn.grid_search import GridSearchCV\n",
    "from sklearn.cross_validation import StratifiedKFold, cross_val_score, train_test_split \n",
    "from sklearn.tree import DecisionTreeClassifier \n",
    "from sklearn.learning_curve import learning_curve"
   ]
  },
  {
   "cell_type": "code",
   "execution_count": 3,
   "metadata": {
    "collapsed": true
   },
   "outputs": [],
   "source": [
    "# ## Step 1: Load data, look around\n",
    "\n",
    "# let's download the dataset we'll be using in this demo.\n",
    "# Go to https://archive.ics.uci.edu/ml/datasets/SMS+Spam+Collection and download the zip file.\n",
    "# Unzip it under `data` subdirectory. You should see a file called `SMSSpamCollection`, \n",
    "# about 0.5MB in size:\n",
    "\n",
    "# ```bash\n",
    "# $ ls -l data\n",
    "# total 1352\n",
    "# -rw-r--r--@ 1 kofola  staff  477907 Mar 15  2011 SMSSpamCollection\n",
    "# -rw-r--r--@ 1 kofola  staff    5868 Apr 18  2011 readme\n",
    "# -rw-r-----@ 1 kofola  staff  203415 Dec  1 15:30 smsspamcollection.zip\n",
    "# ```\n",
    "\n",
    "# This file contains **a collection of more than 5 thousand SMS phone messages** (see the `readme`\n",
    "# file for more info):"
   ]
  },
  {
   "cell_type": "code",
   "execution_count": 4,
   "metadata": {
    "collapsed": true
   },
   "outputs": [],
   "source": [
    "#messages = [line.rstrip() for line in open('./data/SMSSpamCollection')]\n",
    "messages = [line.rstrip() for line in open('./SMSSpamCollection')]\n",
    "#print (messages.length)"
   ]
  },
  {
   "cell_type": "code",
   "execution_count": 5,
   "metadata": {},
   "outputs": [
    {
     "name": "stdout",
     "output_type": "stream",
     "text": [
      "0 ham\tGo until jurong point, crazy.. Available only in bugis n great world la e buffet... Cine there got amore wat...\n",
      "1 ham\tOk lar... Joking wif u oni...\n",
      "2 spam\tFree entry in 2 a wkly comp to win FA Cup final tkts 21st May 2005. Text FA to 87121 to receive entry question(std txt rate)T&C's apply 08452810075over18's\n",
      "3 ham\tU dun say so early hor... U c already then say...\n",
      "4 ham\tNah I don't think he goes to usf, he lives around here though\n",
      "5 spam\tFreeMsg Hey there darling it's been 3 week's now and no word back! I'd like some fun you up for it still? Tb ok! XxX std chgs to send, Â£1.50 to rcv\n",
      "6 ham\tEven my brother is not like to speak with me. They treat me like aids patent.\n",
      "7 ham\tAs per your request 'Melle Melle (Oru Minnaminunginte Nurungu Vettam)' has been set as your callertune for all Callers. Press *9 to copy your friends Callertune\n",
      "8 spam\tWINNER!! As a valued network customer you have been selected to receivea Â£900 prize reward! To claim call 09061701461. Claim code KL341. Valid 12 hours only.\n",
      "9 spam\tHad your mobile 11 months or more? U R entitled to Update to the latest colour mobiles with camera for Free! Call The Mobile Update Co FREE on 08002986030\n"
     ]
    }
   ],
   "source": [
    "# A collection of texts is also sometimes called \"corpus\". Let's print the first ten messages in this\n",
    "# SMS corpus:\n",
    "\n",
    "\n",
    "for message_no, message in enumerate(messages[:10]):\n",
    "    print (message_no, message)"
   ]
  },
  {
   "cell_type": "code",
   "execution_count": 6,
   "metadata": {},
   "outputs": [
    {
     "name": "stdout",
     "output_type": "stream",
     "text": [
      "     label                                            message\n",
      "0      ham  Go until jurong point, crazy.. Available only ...\n",
      "1      ham                      Ok lar... Joking wif u oni...\n",
      "2     spam  Free entry in 2 a wkly comp to win FA Cup fina...\n",
      "3      ham  U dun say so early hor... U c already then say...\n",
      "4      ham  Nah I don't think he goes to usf, he lives aro...\n",
      "5     spam  FreeMsg Hey there darling it's been 3 week's n...\n",
      "6      ham  Even my brother is not like to speak with me. ...\n",
      "7      ham  As per your request 'Melle Melle (Oru Minnamin...\n",
      "8     spam  WINNER!! As a valued network customer you have...\n",
      "9     spam  Had your mobile 11 months or more? U R entitle...\n",
      "10     ham  I'm gonna be home soon and i don't want to tal...\n",
      "11    spam  SIX chances to win CASH! From 100 to 20,000 po...\n",
      "12    spam  URGENT! You have won a 1 week FREE membership ...\n",
      "13     ham  I've been searching for the right words to tha...\n",
      "14     ham                I HAVE A DATE ON SUNDAY WITH WILL!!\n",
      "15    spam  XXXMobileMovieClub: To use your credit, click ...\n",
      "16     ham                         Oh k...i'm watching here:)\n",
      "17     ham  Eh u remember how 2 spell his name... Yes i di...\n",
      "18     ham  Fine if thats the way u feel. Thats the way ...\n",
      "19    spam  England v Macedonia - dont miss the goals/team...\n",
      "20     ham          Is that seriously how you spell his name?\n",
      "21     ham    I‘m going to try for 2 months ha ha only joking\n",
      "22     ham  So ü pay first lar... Then when is da stock co...\n",
      "23     ham  Aft i finish my lunch then i go str down lor. ...\n",
      "24     ham  Ffffffffff. Alright no way I can meet up with ...\n",
      "25     ham  Just forced myself to eat a slice. I'm really ...\n",
      "26     ham                     Lol your always so convincing.\n",
      "27     ham  Did you catch the bus ? Are you frying an egg ...\n",
      "28     ham  I'm back &amp; we're packing the car now, I'll...\n",
      "29     ham  Ahhh. Work. I vaguely remember that! What does...\n",
      "...    ...                                                ...\n",
      "5544   ham           Armand says get your ass over to epsilon\n",
      "5545   ham             U still havent got urself a jacket ah?\n",
      "5546   ham  I'm taking derek &amp; taylor to walmart, if I...\n",
      "5547   ham      Hi its in durban are you still on this number\n",
      "5548   ham         Ic. There are a lotta childporn cars then.\n",
      "5549  spam  Had your contract mobile 11 Mnths? Latest Moto...\n",
      "5550   ham                 No, I was trying it all weekend ;V\n",
      "5551   ham  You know, wot people wear. T shirts, jumpers, ...\n",
      "5552   ham        Cool, what time you think you can get here?\n",
      "5553   ham  Wen did you get so spiritual and deep. That's ...\n",
      "5554   ham  Have a safe trip to Nigeria. Wish you happines...\n",
      "5555   ham                        Hahaha..use your brain dear\n",
      "5556   ham  Well keep in mind I've only got enough gas for...\n",
      "5557   ham  Yeh. Indians was nice. Tho it did kane me off ...\n",
      "5558   ham  Yes i have. So that's why u texted. Pshew...mi...\n",
      "5559   ham  No. I meant the calculation is the same. That ...\n",
      "5560   ham                             Sorry, I'll call later\n",
      "5561   ham  if you aren't here in the next  &lt;#&gt;  hou...\n",
      "5562   ham                  Anything lor. Juz both of us lor.\n",
      "5563   ham  Get me out of this dump heap. My mom decided t...\n",
      "5564   ham  Ok lor... Sony ericsson salesman... I ask shuh...\n",
      "5565   ham                                Ard 6 like dat lor.\n",
      "5566   ham  Why don't you wait 'til at least wednesday to ...\n",
      "5567   ham                                       Huh y lei...\n",
      "5568  spam  REMINDER FROM O2: To get 2.50 pounds free call...\n",
      "5569  spam  This is the 2nd time we have tried 2 contact u...\n",
      "5570   ham               Will ü b going to esplanade fr home?\n",
      "5571   ham  Pity, * was in mood for that. So...any other s...\n",
      "5572   ham  The guy did some bitching but I acted like i'd...\n",
      "5573   ham                         Rofl. Its true to its name\n",
      "\n",
      "[5574 rows x 2 columns]\n"
     ]
    }
   ],
   "source": [
    "# We see that this is a [TSV](http://en.wikipedia.org/wiki/Tab-separated_values)\n",
    "# (\"tab separated values\") file, where the first column is a label saying whether the given message\n",
    "# is a normal message (\"ham\") or \"spam\". The second column is the message itself.\n",
    "# \n",
    "# This corpus will be our labeled training set. Using these ham/spam examples,\n",
    "# we'll **train a machine learning model to learn to discriminate between ham/spam automatically**.\n",
    "# Then, with a trained model, we'll be able to **classify arbitrary unlabeled messages** as ham or\n",
    "# spam.\n",
    "\n",
    "# [![](http://radimrehurek.com/data_science_python/plot_ML_flow_chart_11.png)]\n",
    "# (http://www.astroml.org/sklearn_tutorial/general_concepts.html#supervised-learning-model-fit-x-y)\n",
    "\n",
    "# Instead of parsing TSV (or CSV, or Excel...) files by hand, we can use Python's `pandas` library to\n",
    "# do the work for us:\n",
    "\n",
    "\n",
    "#messages = pandas.read_csv(\"./data/SMSSpamCollection\", sep='\\t', quoting=csv.QUOTE_NONE,\n",
    "messages = pandas.read_csv(\"./SMSSpamCollection\", sep='\\t', quoting=csv.QUOTE_NONE,\n",
    "                           names=[\"label\", \"message\"])\n",
    "print (messages)"
   ]
  },
  {
   "cell_type": "code",
   "execution_count": 7,
   "metadata": {},
   "outputs": [
    {
     "name": "stdout",
     "output_type": "stream",
     "text": [
      "\n",
      "Aggregate statistics of messages :\n",
      "\n",
      "      message                                                               \n",
      "        count unique                                                top freq\n",
      "label                                                                       \n",
      "ham      4827   4518                             Sorry, I'll call later   30\n",
      "spam      747    653  Please call our customer service representativ...    4\n",
      "\n"
     ]
    }
   ],
   "source": [
    "# With `pandas`, we can also view aggregate statistics easily:\n",
    "\n",
    "print()\n",
    "print(\"Aggregate statistics of messages :\")\n",
    "print()\n",
    "print(messages.groupby('label').describe())\n",
    "print()"
   ]
  },
  {
   "cell_type": "code",
   "execution_count": 8,
   "metadata": {},
   "outputs": [
    {
     "name": "stdout",
     "output_type": "stream",
     "text": [
      "Length of initial few messages :\n",
      "\n",
      "  label                                            message  length\n",
      "0   ham  Go until jurong point, crazy.. Available only ...     111\n",
      "1   ham                      Ok lar... Joking wif u oni...      29\n",
      "2  spam  Free entry in 2 a wkly comp to win FA Cup fina...     155\n",
      "3   ham  U dun say so early hor... U c already then say...      49\n",
      "4   ham  Nah I don't think he goes to usf, he lives aro...      61\n",
      "\n"
     ]
    }
   ],
   "source": [
    "# How long are the messages?\n",
    "\n",
    "print(\"Length of initial few messages :\")\n",
    "print()\n",
    "messages['length'] = messages['message'].map(lambda text: len(text))\n",
    "print (messages.head())\n",
    "print()"
   ]
  },
  {
   "cell_type": "code",
   "execution_count": 9,
   "metadata": {},
   "outputs": [
    {
     "name": "stdout",
     "output_type": "stream",
     "text": [
      "Aggregate info about LENGTH of messages :\n",
      "\n",
      "count    5574.000000\n",
      "mean       80.478292\n",
      "std        59.848302\n",
      "min         2.000000\n",
      "25%        36.000000\n",
      "50%        62.000000\n",
      "75%       122.000000\n",
      "max       910.000000\n",
      "Name: length, dtype: float64\n",
      "\n"
     ]
    }
   ],
   "source": [
    "messages.length.plot(bins=20, kind='hist')\n",
    "\n",
    "\n",
    "print(\"Aggregate info about LENGTH of messages :\")\n",
    "print()\n",
    "print(messages.length.describe())\n",
    "print()"
   ]
  },
  {
   "cell_type": "code",
   "execution_count": 10,
   "metadata": {},
   "outputs": [
    {
     "name": "stdout",
     "output_type": "stream",
     "text": [
      "Print a message longer than 900 characters long :\n",
      "\n",
      "[\"For me the love should start with attraction.i should feel that I need her every time around me.she should be the first thing which comes in my thoughts.I would start the day and end it with her.she should be there every time I dream.love will be then when my every breath has her name.my life should happen around her.my life will be named to her.I would cry for her.will give all my happiness and take all her sorrows.I will be ready to fight with anyone for her.I will be in love when I will be doing the craziest things for her.love will be when I don't have to proove anyone that my girl is the most beautiful lady on the whole planet.I will always be singing praises for her.love will be when I start up making chicken curry and end up makiing sambar.life will be the most beautiful then.will get every morning and thank god for the day because she is with me.I would like to say a lot..will tell later..\"]\n",
      "\n"
     ]
    }
   ],
   "source": [
    "# What is that super long message?\n",
    "\n",
    "print(\"Print a message longer than 900 characters long :\")\n",
    "print()\n",
    "print (list(messages.message[messages.length > 900]))\n",
    "print()"
   ]
  },
  {
   "cell_type": "code",
   "execution_count": 11,
   "metadata": {},
   "outputs": [
    {
     "data": {
      "image/png": "[encoded data removed]",
      "text/plain": [
       "<matplotlib.figure.Figure at 0x239d6e5ef0>"
      ]
     },
     "metadata": {},
     "output_type": "display_data"
    },
    {
     "data": {
      "image/png": "[encoded data removed]",
      "text/plain": [
       "<matplotlib.figure.Figure at 0x239d6e50b8>"
      ]
     },
     "metadata": {},
     "output_type": "display_data"
    }
   ],
   "source": [
    "# Is there any difference in message length between spam and ham?\n",
    "\n",
    "\n",
    "plt.show(messages.hist(column='length', by='label', bins=50).all())"
   ]
  },
  {
   "cell_type": "code",
   "execution_count": 12,
   "metadata": {},
   "outputs": [
    {
     "data": {
      "image/png": "[encoded data removed]",
      "text/plain": [
       "<matplotlib.figure.Figure at 0x239dbd0320>"
      ]
     },
     "metadata": {},
     "output_type": "display_data"
    }
   ],
   "source": [
    "# Is there any difference in message length between spam and ham?\n",
    "\n",
    "\n",
    "plt.show(messages.hist(column='length', by='label', bins=50).any())"
   ]
  },
  {
   "cell_type": "code",
   "execution_count": 13,
   "metadata": {
    "collapsed": true
   },
   "outputs": [],
   "source": [
    "# Good fun, but how do we make computer understand the plain text messages themselves?\n",
    "# Or can it under such malformed gibberish at all?\n",
    "\n",
    "# ## Step 2: Data preprocessing\n",
    "\n",
    "# In this section we'll massage the raw messages (sequence of characters) into vectors\n",
    "# (sequences of numbers).\n",
    "# \n",
    "# The mapping is not 1-to-1; we'll use the [bag-of-words]\n",
    "# (http://en.wikipedia.org/wiki/Bag-of-words_model) approach, \n",
    "# where each unique word in a text will be represented by one number.\n",
    "# \n",
    "# As a first step, let's write a function that will split a message into its individual words:\n",
    "\n",
    "\n",
    "def split_into_tokens(message):\n",
    "#    message = str(message, 'utf8')  # convert bytes into proper unicode\n",
    "    return TextBlob(message).words"
   ]
  },
  {
   "cell_type": "code",
   "execution_count": 14,
   "metadata": {},
   "outputs": [
    {
     "name": "stdout",
     "output_type": "stream",
     "text": [
      "Initial few messages again :\n",
      "\n",
      "0    Go until jurong point, crazy.. Available only ...\n",
      "1                        Ok lar... Joking wif u oni...\n",
      "2    Free entry in 2 a wkly comp to win FA Cup fina...\n",
      "3    U dun say so early hor... U c already then say...\n",
      "4    Nah I don't think he goes to usf, he lives aro...\n",
      "Name: message, dtype: object\n",
      "\n"
     ]
    }
   ],
   "source": [
    "# Here are some of the original texts again:\n",
    "#     \n",
    "\n",
    "print(\"Initial few messages again :\")\n",
    "print()\n",
    "print(messages.message.head())\n",
    "print()"
   ]
  },
  {
   "cell_type": "code",
   "execution_count": 15,
   "metadata": {},
   "outputs": [
    {
     "name": "stdout",
     "output_type": "stream",
     "text": [
      "Tokenized messages :\n",
      "\n",
      "0    [Go, until, jurong, point, crazy, Available, o...\n",
      "1                       [Ok, lar, Joking, wif, u, oni]\n",
      "2    [Free, entry, in, 2, a, wkly, comp, to, win, F...\n",
      "3    [U, dun, say, so, early, hor, U, c, already, t...\n",
      "4    [Nah, I, do, n't, think, he, goes, to, usf, he...\n",
      "Name: message, dtype: object\n",
      "\n"
     ]
    }
   ],
   "source": [
    "# ...and here are the same messages, tokenized:\n",
    "\n",
    "print(\"Tokenized messages :\")\n",
    "print()\n",
    "print(messages.message.head().apply(split_into_tokens))\n",
    "print()"
   ]
  },
  {
   "cell_type": "code",
   "execution_count": 16,
   "metadata": {},
   "outputs": [
    {
     "name": "stdout",
     "output_type": "stream",
     "text": [
      "Word, Part of Speech POS tag for sentence 'Hello world, how is it going?' :\n",
      "\n",
      "[('Hello', 'NNP'), ('world', 'NN'), ('how', 'WRB'), ('is', 'VBZ'), ('it', 'PRP'), ('going', 'VBG')]\n",
      "\n"
     ]
    }
   ],
   "source": [
    "# NLP questions:\n",
    "# \n",
    "# 1. Do capital letters carry information?\n",
    "# 2. Does distinguishing inflected form (\"goes\" vs. \"go\") carry information?\n",
    "# 3. Do interjections, determiners carry information?\n",
    "# \n",
    "# In other words, we want to better \"normalize\" the text.\n",
    "# \n",
    "# With textblob, we'd detect\n",
    "#[part-of-speech (POS)](http://www.ling.upenn.edu/courses/Fall_2007/ling001/penn_treebank_pos.html)\n",
    "#tags with:\n",
    "\n",
    "print(\"Word, Part of Speech POS tag for sentence 'Hello world, how is it going?' :\")\n",
    "print()\n",
    "print(TextBlob(\"Hello world, how is it going?\").tags)  # list of (word, POS) pairs\n",
    "print()"
   ]
  },
  {
   "cell_type": "code",
   "execution_count": 17,
   "metadata": {
    "collapsed": true
   },
   "outputs": [],
   "source": [
    "# and normalize words into their base form ([lemmas](http://en.wikipedia.org/wiki/Lemmatisation))\n",
    "# with:\n",
    "\n",
    "\n",
    "def split_into_lemmas(message):\n",
    "#    message = unicode(message, 'utf8').lower()\n",
    "    words = TextBlob(message).words\n",
    "    # for each word, take its \"base form\" = lemma\n",
    "    return [word.lemma for word in words]"
   ]
  },
  {
   "cell_type": "code",
   "execution_count": 18,
   "metadata": {},
   "outputs": [
    {
     "name": "stdout",
     "output_type": "stream",
     "text": [
      "After lemmatization, the messages are :\n",
      "\n",
      "0    [Go, until, jurong, point, crazy, Available, o...\n",
      "1                       [Ok, lar, Joking, wif, u, oni]\n",
      "2    [Free, entry, in, 2, a, wkly, comp, to, win, F...\n",
      "3    [U, dun, say, so, early, hor, U, c, already, t...\n",
      "4    [Nah, I, do, n't, think, he, go, to, usf, he, ...\n",
      "Name: message, dtype: object\n",
      "\n"
     ]
    }
   ],
   "source": [
    "# CellStrat\n",
    "# For example, in English, the verb 'to walk' may appear as 'walk', 'walked', 'walks', 'walking'.\n",
    "# The base form, 'walk', that one might look up in a dictionary, is called the lemma for the word.\n",
    "print(\"After lemmatization, the messages are :\")\n",
    "print()\n",
    "print(messages.message.head().apply(split_into_lemmas))\n",
    "print()"
   ]
  },
  {
   "cell_type": "code",
   "execution_count": 19,
   "metadata": {},
   "outputs": [
    {
     "ename": "SyntaxError",
     "evalue": "invalid syntax (<ipython-input-19-295cc9b44dc9>, line 25)",
     "output_type": "error",
     "traceback": [
      "\u001b[1;36m  File \u001b[1;32m\"<ipython-input-19-295cc9b44dc9>\"\u001b[1;36m, line \u001b[1;32m25\u001b[0m\n\u001b[1;33m    (eliminate common words by detecting higher frequency words across documents/messages)\u001b[0m\n\u001b[1;37m                    ^\u001b[0m\n\u001b[1;31mSyntaxError\u001b[0m\u001b[1;31m:\u001b[0m invalid syntax\n"
     ]
    }
   ],
   "source": [
    "# Better. You can probably think of many more ways to improve the preprocessing:\n",
    "# decoding HTML entities (those `&amp;` and `&lt;` we saw above);\n",
    "# filtering out stop words (pronouns etc); adding more features,\n",
    "# such as an word-in-all-caps indicator and so on.\n",
    "\n",
    "# ## Step 3: Data to vectors\n",
    "\n",
    "# Now we'll convert each message, represented as a list of tokens (lemmas) above,\n",
    "# into a vector that machine learning models can understand.\n",
    "# \n",
    "# Doing that requires essentially three steps, in the bag-of-words model:\n",
    "# \n",
    "# 1. counting how many times does a word occur in each message (term frequency)\n",
    "# 2. weighting the counts, so that frequent tokens get lower weight (inverse document frequency) -\n",
    "#    in order to eliminate common words like \"is\", \"that\", \"and\" etc.\n",
    "# 3. normalizing the vectors to unit length, to abstract from the original text length (L2 norm)\n",
    "\n",
    "# Each vector has as many dimensions as there are unique words in the SMS corpus:\n",
    "\n",
    "#CellStrat\n",
    "#CountVectorizer : Counts words and vectorizes\n",
    "# (Convert a collection of text documents to a matrix of token counts)\n",
    "#TFIDF : Transform a count matrix to a normalized tf or tf-idf representation.\n",
    "#Tf means term-frequency while tf-idf means term-frequency times inverse document-frequency.\n",
    "#(eliminate common words by detecting higher frequency words across documents/messages)"
   ]
  },
  {
   "cell_type": "code",
   "execution_count": null,
   "metadata": {
    "collapsed": true
   },
   "outputs": [],
   "source": [
    "print (\"Data to vectors - Convert the messages to a matrix of token counts\")\n",
    "bow_transformer = CountVectorizer(analyzer=split_into_lemmas).fit(messages['message'])\n",
    "print()\n",
    "#print len(bow_transformer.vocabulary_)"
   ]
  },
  {
   "cell_type": "code",
   "execution_count": null,
   "metadata": {
    "collapsed": true
   },
   "outputs": [],
   "source": [
    "# Here we used `scikit-learn` (`sklearn`), a powerful Python library for teaching machine learning.\n",
    "# It contains a multitude of various methods and options.\n",
    "# \n",
    "# Let's take one text message and get its bag-of-words counts as a vector, putting to use our new\n",
    "# `bow_transformer`:\n",
    "\n",
    "print(\"take one particular text message :\")\n",
    "print()\n",
    "message4 = messages['message'][3]\n",
    "print (message4)\n",
    "print()"
   ]
  },
  {
   "cell_type": "code",
   "execution_count": null,
   "metadata": {
    "collapsed": true
   },
   "outputs": [],
   "source": [
    "print(\"After Bag of Words and conversion to vector, above text message :\")\n",
    "print()\n",
    "bow4 = bow_transformer.transform([message4])\n",
    "print (bow4)\n",
    "print()\n",
    "print(\"Shape of Bag of Words :\")\n",
    "print()\n",
    "print (bow4.shape)\n",
    "print()"
   ]
  },
  {
   "cell_type": "code",
   "execution_count": null,
   "metadata": {
    "collapsed": true
   },
   "outputs": [],
   "source": [
    "# So there are 11012 unique words after lemmatization\n",
    "\n",
    "# So, nine unique words in message nr. 4, two of them appear twice, the rest only once.\n",
    "# Sanity check: what are these words the appear twice?\n",
    "\n",
    "print(\"Sanity check: what are these words that appear twice :\")\n",
    "print()\n",
    "#print (bow_transformer.get_feature_names()[6736])\n",
    "#print (bow_transformer.get_feature_names()[8013])\n",
    "print (bow_transformer.get_feature_names()[4191])\n",
    "print (bow_transformer.get_feature_names()[9282])\n",
    "print()"
   ]
  },
  {
   "cell_type": "code",
   "execution_count": null,
   "metadata": {
    "collapsed": true
   },
   "outputs": [],
   "source": [
    "# The bag-of-words counts for the entire SMS corpus are a large, sparse matrix:\n",
    "\n",
    "print (\"Using the bag of words transformer, transform all the messages :\")\n",
    "messages_bow = bow_transformer.transform(messages['message'])\n",
    "print()\n",
    "print ('sparse matrix shape:', messages_bow.shape)\n",
    "print ('number of non-zeros:', messages_bow.nnz)\n",
    "print ('sparsity: %.2f%%' % (100.0 * messages_bow.nnz / (messages_bow.shape[0] * messages_bow.shape[1])))\n",
    "print()"
   ]
  },
  {
   "cell_type": "code",
   "execution_count": null,
   "metadata": {
    "collapsed": true
   },
   "outputs": [],
   "source": [
    "#the matrix shape :- has 61 million cells (5574 x 11012)\n",
    "#of these 81621 are filled up and rest are zero. Hence it is said to be sparse\n",
    "#\n",
    "#            Word 1   Word 2   Word 3   Word 4...................Word 11012\n",
    "# Msg 1        0       1        0         1                        0\n",
    "# Msg 2        0       0        1         1                        0\n",
    "# .\n",
    "# .\n",
    "# .\n",
    "# Msg 5574     1       0        0         0                        1"
   ]
  },
  {
   "cell_type": "code",
   "execution_count": null,
   "metadata": {
    "collapsed": true
   },
   "outputs": [],
   "source": [
    "# And finally, after the counting, the term weighting and normalization can be done with [TF-IDF]\n",
    "# (http://en.wikipedia.org/wiki/Tf%E2%80%93idf), using scikit-learn's `TfidfTransformer`:\n",
    "\n",
    "print(\"Now perform TFIDF fit and transform\")\n",
    "tfidf_transformer = TfidfTransformer().fit(messages_bow)\n",
    "tfidf4 = tfidf_transformer.transform(bow4)\n",
    "print(\"After TFIDF fit and transformation, above text message :\")\n",
    "print()\n",
    "print (tfidf4)\n",
    "print()"
   ]
  },
  {
   "cell_type": "code",
   "execution_count": null,
   "metadata": {
    "collapsed": true
   },
   "outputs": [],
   "source": [
    "# What is the IDF (inverse document frequency) of the word `\"u\"`? Of word `\"university\"`?\n",
    "\n",
    "print(\"What is the IDF (inverse document frequency) of the word 'u'? Of word 'university'?:\")\n",
    "print()\n",
    "print (tfidf_transformer.idf_[bow_transformer.vocabulary_['u']])\n",
    "print (tfidf_transformer.idf_[bow_transformer.vocabulary_['university']])\n",
    "print()"
   ]
  },
  {
   "cell_type": "code",
   "execution_count": null,
   "metadata": {
    "collapsed": true
   },
   "outputs": [],
   "source": [
    "# To transform the entire bag-of-words corpus into TF-IDF corpus at once:\n",
    "\n",
    "print(\"Transform the entire bag-of-words corpus into TF-IDF corpus at once :\")\n",
    "messages_tfidf = tfidf_transformer.transform(messages_bow)\n",
    "print(\"After TFIDF transformation, print shape :\")\n",
    "print()\n",
    "print (messages_tfidf.shape)"
   ]
  },
  {
   "cell_type": "code",
   "execution_count": null,
   "metadata": {
    "collapsed": true
   },
   "outputs": [],
   "source": [
    "print(messages_tfidf)"
   ]
  },
  {
   "cell_type": "code",
   "execution_count": null,
   "metadata": {
    "collapsed": true
   },
   "outputs": [],
   "source": [
    "# There are a multitude of ways in which data can be proprocessed and vectorized.\n",
    "# These two steps, also called \"feature engineering\", are typically the most time consuming and\n",
    "# \"unsexy\" parts of building a predictive pipeline, but they are very important and require some\n",
    "# experience. The trick is to evaluate constantly: analyze model for the errors it makes,\n",
    "# improve data cleaning & preprocessing, brainstorm for new features, evaluate...\n",
    "\n",
    "# ## Step 4: Training a model, detecting spam\n",
    "\n",
    "# With messages represented as vectors, we can finally train our spam/ham classifier.\n",
    "# This part is pretty straightforward, and there are many libraries that realize the training\n",
    "# algorithms.\n",
    "\n",
    "# We'll be using scikit-learn here, choosing the [Naive Bayes]\n",
    "# (http://en.wikipedia.org/wiki/Naive_Bayes_classifier) classifier to start with\n",
    "# MultinomialNB AI reference :\n",
    "# http://scikit-learn.org/stable/modules/generated/sklearn.naive_bayes.MultinomialNB.html\n",
    "\n",
    "\n",
    "#get_ipython().magic(\"time spam_detector = MultinomialNB().fit(messages_tfidf, messages['label'])\")\n",
    "print (\"Now perform MultinomialNB fit to get the Spam Detector\")\n",
    "spam_detector = MultinomialNB().fit(messages_tfidf, messages['label'])\n",
    "print()"
   ]
  },
  {
   "cell_type": "code",
   "execution_count": null,
   "metadata": {
    "collapsed": true
   },
   "outputs": [],
   "source": [
    "# Let's try classifying our single random message:\n",
    "\n",
    "print(\"Let's use this spam detector to try to classify our single random message :\")\n",
    "print()\n",
    "print ('predicted:', spam_detector.predict(tfidf4)[0])\n",
    "print ('expected:', messages.label[3])\n",
    "print()"
   ]
  },
  {
   "cell_type": "code",
   "execution_count": null,
   "metadata": {
    "collapsed": true
   },
   "outputs": [],
   "source": [
    "# Hooray! You can try it with your own texts, too.\n",
    "# \n",
    "# A natural question is to ask, how many messages do we classify correctly overall?\n",
    "\n",
    "\n",
    "all_predictions = spam_detector.predict(messages_tfidf)\n",
    "print(\"Print all predictions :\")\n",
    "print()\n",
    "print (all_predictions)\n",
    "print()"
   ]
  },
  {
   "cell_type": "code",
   "execution_count": null,
   "metadata": {
    "collapsed": true
   },
   "outputs": [],
   "source": [
    "print ('accuracy of spam predictions', accuracy_score(messages['label'], all_predictions))\n",
    "print()\n",
    "print ('confusion matrix\\n', confusion_matrix(messages['label'], all_predictions))\n",
    "print ('(row=expected, col=predicted)')\n",
    "print()"
   ]
  },
  {
   "cell_type": "code",
   "execution_count": null,
   "metadata": {
    "collapsed": true
   },
   "outputs": [],
   "source": [
    "plt.matshow(confusion_matrix(messages['label'], all_predictions),\n",
    "            cmap=plt.cm.binary, interpolation='nearest')\n",
    "plt.title('confusion matrix')\n",
    "plt.colorbar()\n",
    "plt.ylabel('expected label')\n",
    "plt.xlabel('predicted label')\n",
    "plt.show()"
   ]
  },
  {
   "cell_type": "code",
   "execution_count": null,
   "metadata": {
    "collapsed": true
   },
   "outputs": [],
   "source": [
    "# From this confusion matrix, we can compute precision and recall, or their combination\n",
    "# (harmonic mean) F1:\n",
    "\n",
    "print(\"From this confusion matrix, we can compute precision and recall, or their combination (harmonic mean) F1\")\n",
    "print()\n",
    "print (classification_report(messages['label'], all_predictions))\n",
    "print()"
   ]
  },
  {
   "cell_type": "code",
   "execution_count": null,
   "metadata": {
    "collapsed": true
   },
   "outputs": [],
   "source": []
  }
 ],
 "metadata": {
  "kernelspec": {
   "display_name": "Python 3",
   "language": "python",
   "name": "python3"
  },
  "language_info": {
   "codemirror_mode": {
    "name": "ipython",
    "version": 3
   },
   "file_extension": ".py",
   "mimetype": "text/x-python",
   "name": "python",
   "nbconvert_exporter": "python",
   "pygments_lexer": "ipython3",
   "version": "3.5.2"
  }
 },
 "nbformat": 4,
 "nbformat_minor": 2
}
