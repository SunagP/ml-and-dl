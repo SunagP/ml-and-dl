{
 "cells": [
  {
   "cell_type": "markdown",
   "metadata": {},
   "source": [
    "# Let us start with a simple equation y = x*x*y + x + b"
   ]
  },
  {
   "cell_type": "markdown",
   "metadata": {},
   "source": [
    "### First steps with TensorFlow"
   ]
  },
  {
   "cell_type": "code",
   "execution_count": 1,
   "metadata": {
    "collapsed": true
   },
   "outputs": [],
   "source": [
    "import tensorflow as tf"
   ]
  },
  {
   "cell_type": "markdown",
   "metadata": {},
   "source": [
    "### Define  variables"
   ]
  },
  {
   "cell_type": "code",
   "execution_count": 2,
   "metadata": {
    "collapsed": true
   },
   "outputs": [],
   "source": [
    "x = tf.Variable(3, name='x')\n",
    "y = tf.Variable(4, name='y')"
   ]
  },
  {
   "cell_type": "code",
   "execution_count": 3,
   "metadata": {
    "collapsed": true
   },
   "outputs": [],
   "source": [
    "f=x*x*y + y + 2"
   ]
  },
  {
   "cell_type": "code",
   "execution_count": 4,
   "metadata": {
    "collapsed": true
   },
   "outputs": [],
   "source": [
    "sess = tf.Session()\n",
    "sess.run(x.initializer)\n",
    "sess.run(y.initializer)"
   ]
  },
  {
   "cell_type": "code",
   "execution_count": 5,
   "metadata": {
    "collapsed": true
   },
   "outputs": [],
   "source": [
    "result=sess.run(f)"
   ]
  },
  {
   "cell_type": "code",
   "execution_count": 6,
   "metadata": {},
   "outputs": [
    {
     "name": "stdout",
     "output_type": "stream",
     "text": [
      "42\n"
     ]
    }
   ],
   "source": [
    "print(result)"
   ]
  },
  {
   "cell_type": "markdown",
   "metadata": {},
   "source": [
    "### Same code with placeholders"
   ]
  },
  {
   "cell_type": "code",
   "execution_count": 11,
   "metadata": {
    "collapsed": true
   },
   "outputs": [],
   "source": [
    "x = tf.placeholder(dtype=tf.float32,shape=(None), name='x')\n",
    "y = tf.placeholder(dtype=tf.float32,shape=(None), name='y')\n",
    "w = tf.Variable(1.0, name='weight')\n",
    "w2 = tf.Variable(1.0, name='weight2')\n",
    "b = tf.Variable(2.0, name='bias')"
   ]
  },
  {
   "cell_type": "code",
   "execution_count": 12,
   "metadata": {
    "collapsed": true
   },
   "outputs": [],
   "source": [
    "z = w*x*x*y + w2*x+ b"
   ]
  },
  {
   "cell_type": "code",
   "execution_count": 13,
   "metadata": {},
   "outputs": [
    {
     "name": "stdout",
     "output_type": "stream",
     "text": [
      "x= 1.0 , y= 2.0 --> z= 5.0\n",
      "x= 1.0 , y=-1.4 --> z= 1.6\n",
      "x= 0.6 , y= 2.0 --> z= 3.3\n",
      "x= 0.6 , y=-1.4 --> z= 2.1\n"
     ]
    }
   ],
   "source": [
    "#initialize the variables\n",
    "init = tf.global_variables_initializer()\n",
    "\n",
    "#provide values to placeholders during session runtime\n",
    "with tf.Session() as sess:\n",
    "   \n",
    "    sess.run(init)  \n",
    "    for t in [1.0, 0.6]:\n",
    "        for u in [2.0, -1.4]:\n",
    "            print('x=%4.1f , y=%4.1f --> z=%4.1f'%(\n",
    "                  t, u, sess.run(z, feed_dict={x:t,y:u})))   "
   ]
  },
  {
   "cell_type": "markdown",
   "metadata": {},
   "source": [
    "### Working with array structures"
   ]
  },
  {
   "cell_type": "code",
   "execution_count": null,
   "metadata": {
    "collapsed": true
   },
   "outputs": [],
   "source": [
    "#CellStrat - In the code below, we will create a rank-3 tensor of size batchsize x 2 x 3.\n",
    "#We will reshape it, and calculate column sums.\n",
    "#Note that -1 in the reshape command indicates that particular dimension will be calculated\n",
    "#dynamically.\n",
    "#Therefore, tf.reshape(tensor, shape=(-1,)) can be used to flatten a tensor."
   ]
  },
  {
   "cell_type": "code",
   "execution_count": null,
   "metadata": {
    "collapsed": true
   },
   "outputs": [],
   "source": [
    "x = tf.placeholder(dtype=tf.float32, shape=(None, 2, 3),  name='input_x')\n",
    "x\n",
    "x2 = tf.reshape(x, shape=(-1, 6),name='x2')\n",
    "xsum = tf.reduce_sum(x2, axis=0, name='col_sum')\n",
    "\n",
    "## calculate the mean of each column\n",
    "xmean = tf.reduce_mean(x2, axis=0, name='col_mean')"
   ]
  },
  {
   "cell_type": "code",
   "execution_count": null,
   "metadata": {},
   "outputs": [],
   "source": [
    "import numpy as np\n",
    "with tf.Session() as sess: \n",
    "    #np.arange produces digits upto the value listed.\n",
    "    #Check https://docs.scipy.org/doc/numpy/reference/generated/numpy.arange.html\n",
    "    x_array = np.arange(36).reshape(-1, 2, 3)\n",
    "    \n",
    "    print('input shape: ', x_array.shape)\n",
    "    print(x_array)\n",
    "    \n",
    "    #x2 has shape =(-1, 6), hence to accomodate 36 elements, it will become shape (6, 6)\n",
    "    print('Reshaped:\\n', \n",
    "          sess.run(x2, feed_dict={x:x_array}))\n",
    "    print('Column Sums:\\n', \n",
    "          sess.run(xsum, feed_dict={x:x_array}))\n",
    "    print('Column Means:\\n', \n",
    "          sess.run(xmean, feed_dict={x:x_array}))\n"
   ]
  },
  {
   "cell_type": "code",
   "execution_count": null,
   "metadata": {
    "collapsed": true
   },
   "outputs": [],
   "source": []
  }
 ],
 "metadata": {
  "kernelspec": {
   "display_name": "Python 3",
   "language": "python",
   "name": "python3"
  },
  "language_info": {
   "codemirror_mode": {
    "name": "ipython",
    "version": 3
   },
   "file_extension": ".py",
   "mimetype": "text/x-python",
   "name": "python",
   "nbconvert_exporter": "python",
   "pygments_lexer": "ipython3",
   "version": "3.7.8"
  }
 },
 "nbformat": 4,
 "nbformat_minor": 2
}
