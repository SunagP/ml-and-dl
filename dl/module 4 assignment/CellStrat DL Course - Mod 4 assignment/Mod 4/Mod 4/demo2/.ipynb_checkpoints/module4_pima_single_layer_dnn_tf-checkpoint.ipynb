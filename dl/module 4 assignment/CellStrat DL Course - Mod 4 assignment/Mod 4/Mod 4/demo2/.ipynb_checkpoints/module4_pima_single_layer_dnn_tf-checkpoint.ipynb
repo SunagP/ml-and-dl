{
 "cells": [
  {
   "cell_type": "markdown",
   "metadata": {},
   "source": [
    "# One Layer DNN (Pima Diabetes Dataset)"
   ]
  },
  {
   "cell_type": "markdown",
   "metadata": {},
   "source": [
    "### Import modules"
   ]
  },
  {
   "cell_type": "code",
   "execution_count": 1,
   "metadata": {},
   "outputs": [],
   "source": [
    "import numpy as np\n",
    "from sklearn.model_selection import train_test_split\n",
    "from sklearn.preprocessing import StandardScaler\n",
    "from matplotlib.colors import ListedColormap\n",
    "import matplotlib.pyplot as plt\n",
    "import tensorflow as tf"
   ]
  },
  {
   "cell_type": "markdown",
   "metadata": {},
   "source": [
    "### Define Input and Output"
   ]
  },
  {
   "cell_type": "code",
   "execution_count": 2,
   "metadata": {},
   "outputs": [],
   "source": [
    "pima = np.loadtxt('./pima-indians-diabetes.data', delimiter=',')\n",
    "\n",
    "##Attribute Information:\n",
    "#1. Number of times pregnant\n",
    "#2. Plasma glucose concentration a 2 hours in an oral glucose tolerance test\n",
    "#3. Diastolic blood pressure (mm Hg)\n",
    "#4. Triceps skin fold thickness (mm)\n",
    "#5. 2-Hour serum insulin (mu U/ml)\n",
    "#6. Body mass index (weight in kg/(height in m)^2)\n",
    "#7. Diabetes pedigree function\n",
    "#8. Age (years)\n",
    "#9. Class variable (0 or 1)"
   ]
  },
  {
   "cell_type": "markdown",
   "metadata": {},
   "source": [
    "### Preprocess the data"
   ]
  },
  {
   "cell_type": "code",
   "execution_count": 3,
   "metadata": {},
   "outputs": [],
   "source": [
    "pima[np.where(pima[:,0]>8),0] = 8 #Pregnancy-more than 8 should be taken as 8\n",
    "pima[np.where(pima[:,7]<=30),7] = 1 #quantize the age in 5 buckets\n",
    "pima[np.where((pima[:,7]>30) & (pima[:,7]<=40)),7] = 2\n",
    "pima[np.where((pima[:,7]>40) & (pima[:,7]<=50)),7] = 3\n",
    "pima[np.where((pima[:,7]>50) & (pima[:,7]<=60)),7] = 4\n",
    "pima[np.where(pima[:,7]>60),7] = 5"
   ]
  },
  {
   "cell_type": "markdown",
   "metadata": {},
   "source": [
    "### Create X and Y data"
   ]
  },
  {
   "cell_type": "code",
   "execution_count": 4,
   "metadata": {},
   "outputs": [
    {
     "name": "stdout",
     "output_type": "stream",
     "text": [
      "Class labels: [0. 1.]\n"
     ]
    }
   ],
   "source": [
    "X = pima[:, [1, 5]]  #we will use two variables only for simplicity.\n",
    "y = pima[:,8:9]\n",
    "print('Class labels:', np.unique(y))\n",
    "\n",
    "\n",
    "# Splitting data into 70% training and 30% test data:\n",
    "X_train, X_test, y_train, y_test = train_test_split(X,y, test_size=0.3,\n",
    "                                                    random_state=1, stratify=y)\n",
    "y_train = np.array(y_train.ravel())\n",
    "y_test = np.array(y_test.ravel())\n",
    "\n",
    "## Standardizing the features:\n",
    "sc = StandardScaler()\n",
    "sc.fit(X_train)\n",
    "X_train_std = sc.transform(X_train)\n",
    "X_test_std = sc.transform(X_test)"
   ]
  },
  {
   "cell_type": "markdown",
   "metadata": {},
   "source": [
    "### Train using Tensorflow"
   ]
  },
  {
   "cell_type": "code",
   "execution_count": 10,
   "metadata": {},
   "outputs": [
    {
     "name": "stdout",
     "output_type": "stream",
     "text": [
      "INFO:tensorflow:Using default config.\n",
      "INFO:tensorflow:Using config: {'_model_dir': '/tmp/model', '_tf_random_seed': None, '_save_summary_steps': 100, '_save_checkpoints_steps': None, '_save_checkpoints_secs': 600, '_session_config': allow_soft_placement: true\n",
      "graph_options {\n",
      "  rewrite_options {\n",
      "    meta_optimizer_iterations: ONE\n",
      "  }\n",
      "}\n",
      ", '_keep_checkpoint_max': 5, '_keep_checkpoint_every_n_hours': 10000, '_log_step_count_steps': 100, '_train_distribute': None, '_device_fn': None, '_protocol': None, '_eval_distribute': None, '_experimental_distribute': None, '_experimental_max_worker_delay_secs': None, '_session_creation_timeout_secs': 7200, '_service': None, '_cluster_spec': <tensorflow.python.training.server_lib.ClusterSpec object at 0x000002292B980408>, '_task_type': 'worker', '_task_id': 0, '_global_id_in_cluster': 0, '_master': '', '_evaluation_master': '', '_is_chief': True, '_num_ps_replicas': 0, '_num_worker_replicas': 1}\n",
      "INFO:tensorflow:Calling model_fn.\n",
      "INFO:tensorflow:Done calling model_fn.\n",
      "INFO:tensorflow:Create CheckpointSaverHook.\n",
      "INFO:tensorflow:Graph was finalized.\n",
      "INFO:tensorflow:Restoring parameters from /tmp/model\\model.ckpt-3000\n",
      "INFO:tensorflow:Running local_init_op.\n",
      "INFO:tensorflow:Done running local_init_op.\n",
      "INFO:tensorflow:Saving checkpoints for 3000 into /tmp/model\\model.ckpt.\n",
      "INFO:tensorflow:loss = 254.76591, step = 3001\n",
      "INFO:tensorflow:global_step/sec: 1426.68\n",
      "INFO:tensorflow:loss = 254.72258, step = 3101 (0.072 sec)\n",
      "INFO:tensorflow:global_step/sec: 1928.19\n",
      "INFO:tensorflow:loss = 254.68248, step = 3201 (0.051 sec)\n",
      "INFO:tensorflow:global_step/sec: 1870.88\n",
      "INFO:tensorflow:loss = 254.64488, step = 3301 (0.053 sec)\n",
      "INFO:tensorflow:global_step/sec: 1838.57\n",
      "INFO:tensorflow:loss = 254.61322, step = 3401 (0.054 sec)\n",
      "INFO:tensorflow:global_step/sec: 1841.02\n",
      "INFO:tensorflow:loss = 254.58495, step = 3501 (0.054 sec)\n",
      "INFO:tensorflow:global_step/sec: 1850.89\n",
      "INFO:tensorflow:loss = 254.55911, step = 3601 (0.055 sec)\n",
      "INFO:tensorflow:global_step/sec: 1931.92\n",
      "INFO:tensorflow:loss = 254.54019, step = 3701 (0.051 sec)\n",
      "INFO:tensorflow:global_step/sec: 1891.63\n",
      "INFO:tensorflow:loss = 254.5229, step = 3801 (0.053 sec)\n",
      "INFO:tensorflow:global_step/sec: 1898.95\n",
      "INFO:tensorflow:loss = 254.50827, step = 3901 (0.053 sec)\n",
      "INFO:tensorflow:Saving checkpoints for 4000 into /tmp/model\\model.ckpt.\n",
      "INFO:tensorflow:Loss for final step: 254.49557.\n"
     ]
    },
    {
     "data": {
      "text/plain": [
       "<tensorflow_estimator.python.estimator.canned.dnn.DNNClassifier at 0x2292b980188>"
      ]
     },
     "execution_count": 10,
     "metadata": {},
     "output_type": "execute_result"
    }
   ],
   "source": [
    "feature_columns =[tf.feature_column.numeric_column(\"x\",shape=[np.shape(X)[1]])]\n",
    "\n",
    "classifier = tf.estimator.DNNClassifier(feature_columns=feature_columns,\n",
    "                                        #hidden_units=[5], n_classes=2, model_dir=\"./model\")\n",
    "                                        hidden_units=[5,10,5], n_classes=2, model_dir=\"/tmp/model\")\n",
    "\n",
    "def train_input_fn():\n",
    "    return {\"x\":np.array(X_train_std)},np.array(y_train,dtype=np.int)\n",
    "\n",
    "classifier.train(input_fn=train_input_fn, steps=1000)"
   ]
  },
  {
   "cell_type": "markdown",
   "metadata": {},
   "source": [
    "### Evaluate the data"
   ]
  },
  {
   "cell_type": "code",
   "execution_count": 6,
   "metadata": {},
   "outputs": [
    {
     "name": "stdout",
     "output_type": "stream",
     "text": [
      "INFO:tensorflow:Calling model_fn.\n",
      "WARNING:tensorflow:From c:\\users\\asus\\appdata\\local\\programs\\python\\python37\\lib\\site-packages\\tensorflow_core\\python\\ops\\metrics_impl.py:2026: div (from tensorflow.python.ops.math_ops) is deprecated and will be removed in a future version.\n",
      "Instructions for updating:\n",
      "Deprecated in favor of operator or tf.math.divide.\n",
      "WARNING:tensorflow:Trapezoidal rule is known to produce incorrect PR-AUCs; please switch to \"careful_interpolation\" instead.\n",
      "WARNING:tensorflow:Trapezoidal rule is known to produce incorrect PR-AUCs; please switch to \"careful_interpolation\" instead.\n",
      "INFO:tensorflow:Done calling model_fn.\n",
      "INFO:tensorflow:Starting evaluation at 2020-09-10T17:01:39Z\n",
      "INFO:tensorflow:Graph was finalized.\n",
      "INFO:tensorflow:Restoring parameters from /tmp/model\\model.ckpt-3000\n",
      "INFO:tensorflow:Running local_init_op.\n",
      "INFO:tensorflow:Done running local_init_op.\n",
      "INFO:tensorflow:Evaluation [1/1]\n",
      "INFO:tensorflow:Finished evaluation at 2020-09-10-17:01:39\n",
      "INFO:tensorflow:Saving dict for global step 3000: accuracy = 0.74025977, accuracy_baseline = 0.64935064, auc = 0.80185187, auc_precision_recall = 0.68400466, average_loss = 0.52112633, global_step = 3000, label/mean = 0.35064936, loss = 120.38019, precision = 0.6666667, prediction/mean = 0.33778906, recall = 0.5185185\n",
      "INFO:tensorflow:Saving 'checkpoint_path' summary for global step 3000: /tmp/model\\model.ckpt-3000\n",
      "Test Accuracy: 0.740260\n"
     ]
    }
   ],
   "source": [
    "def test_input_fn():\n",
    "    return {\"x\":np.array(X_test_std)},np.array(y_test,dtype=np.int)\n",
    "accuracy_score = classifier.evaluate(input_fn=test_input_fn,steps=1)[\"accuracy\"]\n",
    "print(\"Test Accuracy: {0:f}\".format(accuracy_score))"
   ]
  },
  {
   "cell_type": "markdown",
   "metadata": {},
   "source": [
    "### Define the plotting function"
   ]
  },
  {
   "cell_type": "code",
   "execution_count": 7,
   "metadata": {},
   "outputs": [],
   "source": [
    "def plot_decision_regions(X, y, classifier, test_idx=None, resolution=0.2):\n",
    "    # setup marker generator and color map\n",
    "    markers = ('s', 'x', 'o', '^', 'v')\n",
    "    colors = ('red', 'blue', 'lightgreen', 'gray', 'cyan')\n",
    "    cmap = ListedColormap(colors[:len(np.unique(y))])\n",
    "\n",
    "    # plot the decision surface\n",
    "    x1_min, x1_max = X[:, 0].min() - 1, X[:, 0].max() + 1\n",
    "    x2_min, x2_max = X[:, 1].min() - 1, X[:, 1].max() + 1\n",
    "    xx1, xx2 = np.meshgrid(np.arange(x1_min, x1_max, resolution),\n",
    "                           np.arange(x2_min, x2_max, resolution))\n",
    "\n",
    "    predict_input_fn = tf.estimator.inputs.numpy_input_fn(x={\"x\": np.array([xx1.ravel(), xx2.ravel()]).T},\n",
    "                                                          num_epochs=1,shuffle=False)\n",
    "        \n",
    "    print('start predict')\n",
    "    predictions= list(classifier.predict(input_fn=predict_input_fn))\n",
    "    print('end predict')\n",
    "    \n",
    "    Z= [p[\"classes\"] for p in predictions]  \n",
    "    Z=np.array(Z)\n",
    "    Z = Z.reshape(xx1.shape)\n",
    "    \n",
    "    plt.contourf(xx1, xx2, Z, alpha=0.3, cmap=cmap)\n",
    "    plt.xlim(xx1.min(), xx1.max())\n",
    "    plt.ylim(xx2.min(), xx2.max())\n",
    "\n",
    "    # plot all samples\n",
    "    for idx, cl in enumerate(np.unique(y)):\n",
    "        plt.scatter(x=X[y == cl, 0], y=X[y == cl, 1], alpha=0.8,\n",
    "                    c=colors[idx], marker=markers[idx], label=cl, edgecolor='black')\n",
    "\n",
    "    if test_idx:   # # highlight test samples.\n",
    "        X_test, y_test = X[test_idx, :], y[test_idx]\n",
    "        plt.scatter(X_test[:, 0], X_test[:, 1], c='', edgecolor='black', alpha=1.0,\n",
    "                    linewidth=1,\n",
    "                    marker='o', s=100, label='test set')"
   ]
  },
  {
   "cell_type": "markdown",
   "metadata": {},
   "source": [
    "### Plot the decision boundary"
   ]
  },
  {
   "cell_type": "code",
   "execution_count": 8,
   "metadata": {},
   "outputs": [
    {
     "name": "stdout",
     "output_type": "stream",
     "text": [
      "start predict\n",
      "WARNING:tensorflow:From c:\\users\\asus\\appdata\\local\\programs\\python\\python37\\lib\\site-packages\\tensorflow_estimator\\python\\estimator\\inputs\\queues\\feeding_queue_runner.py:62: QueueRunner.__init__ (from tensorflow.python.training.queue_runner_impl) is deprecated and will be removed in a future version.\n",
      "Instructions for updating:\n",
      "To construct input pipelines, use the `tf.data` module.\n",
      "WARNING:tensorflow:From c:\\users\\asus\\appdata\\local\\programs\\python\\python37\\lib\\site-packages\\tensorflow_estimator\\python\\estimator\\inputs\\queues\\feeding_functions.py:500: add_queue_runner (from tensorflow.python.training.queue_runner_impl) is deprecated and will be removed in a future version.\n",
      "Instructions for updating:\n",
      "To construct input pipelines, use the `tf.data` module.\n",
      "INFO:tensorflow:Calling model_fn.\n",
      "INFO:tensorflow:Done calling model_fn.\n",
      "INFO:tensorflow:Graph was finalized.\n",
      "INFO:tensorflow:Restoring parameters from /tmp/model\\model.ckpt-3000\n",
      "INFO:tensorflow:Running local_init_op.\n",
      "INFO:tensorflow:Done running local_init_op.\n",
      "WARNING:tensorflow:From c:\\users\\asus\\appdata\\local\\programs\\python\\python37\\lib\\site-packages\\tensorflow_core\\python\\training\\monitored_session.py:882: start_queue_runners (from tensorflow.python.training.queue_runner_impl) is deprecated and will be removed in a future version.\n",
      "Instructions for updating:\n",
      "To construct input pipelines, use the `tf.data` module.\n",
      "end predict\n"
     ]
    },
    {
     "data": {
      "image/png": "[encoded data removed]",
      "text/plain": [
       "<Figure size 432x288 with 1 Axes>"
      ]
     },
     "metadata": {
      "needs_background": "light"
     },
     "output_type": "display_data"
    }
   ],
   "source": [
    "plot_decision_regions(X_test_std, y_test, classifier=classifier)\n",
    "\n",
    "plt.xlabel('Glucose')\n",
    "plt.ylabel('BMI')\n",
    "plt.legend(loc='upper left')\n",
    "plt.title('Diabetes classifier using Neural Network')\n",
    "plt.show()"
   ]
  },
  {
   "cell_type": "code",
   "execution_count": null,
   "metadata": {},
   "outputs": [],
   "source": []
  }
 ],
 "metadata": {
  "kernelspec": {
   "display_name": "Python 3",
   "language": "python",
   "name": "python3"
  },
  "language_info": {
   "codemirror_mode": {
    "name": "ipython",
    "version": 3
   },
   "file_extension": ".py",
   "mimetype": "text/x-python",
   "name": "python",
   "nbconvert_exporter": "python",
   "pygments_lexer": "ipython3",
   "version": "3.7.8"
  }
 },
 "nbformat": 4,
 "nbformat_minor": 2
}
